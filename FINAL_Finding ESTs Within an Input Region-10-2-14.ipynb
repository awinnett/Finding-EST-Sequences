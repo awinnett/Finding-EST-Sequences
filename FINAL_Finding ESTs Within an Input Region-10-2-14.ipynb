{
 "metadata": {
  "name": ""
 },
 "nbformat": 3,
 "nbformat_minor": 0,
 "worksheets": [
  {
   "cells": [
    {
     "cell_type": "heading",
     "level": 3,
     "metadata": {},
     "source": [
      "Importation Cell"
     ]
    },
    {
     "cell_type": "code",
     "collapsed": false,
     "input": [
      "import csv\n",
      "from BCBio import GFF\n",
      "import pprint\n",
      "from BCBio.GFF import GFFExaminer\n",
      "from Bio.Seq import Seq\n",
      "from Bio import SeqIO\n",
      "from Bio.SeqRecord import SeqRecord\n",
      "\n",
      "import csv\n",
      "import re\n",
      "\n",
      "import string\n",
      "import sys\n",
      "import re\n",
      "import random\n",
      "import os\n",
      "import math\n",
      "from scipy import stats\n",
      "\n",
      "import pprint\n",
      "from BCBio.GFF import GFFExaminer"
     ],
     "language": "python",
     "metadata": {},
     "outputs": [],
     "prompt_number": 1
    },
    {
     "cell_type": "heading",
     "level": 1,
     "metadata": {},
     "source": [
      "Make Bins from Lettuce ESTs"
     ]
    },
    {
     "cell_type": "code",
     "collapsed": false,
     "input": [
      "# This section uses the alignment data for lettuce and pulls out the Base Pair positions,and chromosome numbers\n",
      "# of Expressed Sequence Tags on lettuce genome\n",
      "# file downloaded from https://lgr.genomecenter.ucdavis.edu/Private/Downloads/FTP_download.php, August 2014\n",
      "# GBrowse V3.2 Database\n",
      "#Reference:http://biopython.org/wiki/GFF_Parsing\n",
      "\n",
      "#Interesting regions defined by these gff files:\n",
      "#Lsat.1.v4.geneticMarkers.Lsativa-Lserriola_core_map.gff - GFF file with the genetic markers present in the L. sativa- L. serriola; gff_id = all contig names, 'gff_source_type': {('Salinas_x_Serriola_2011_Good', 'Map_Locations')\n",
      "#Lsat.1.v4.alignment.allPlantProteins.gff - GFF exonerate alignment of plant protein database from NCBI; gff_id = all the contigs names, gff_source_type ('protein2genome', 'protein_match'):164235\n",
      "#Lsat.1.v4.repeatElements.gff - GFF file with the predicted repeated elements\n",
      "#Lsat.1.v4.alignment.lettuceNCBI.gff - GFF exonerate alignment of lettuce mRNA sequences at NCBI; gff_source = est2genome, gff_type = \"expressed_sequence_match\"\n",
      "#Lsat.1.v4.geneModels.gff - GFF file with the predicted gene models\n",
      "\n",
      "#limit_info is a dictionary defining the interesting fields from each gff \n",
      "limit_info = {\"Lsat.1.v4.alignment.lettuceNCBI.gff\":{\"gff_source_type\":[(\"est2genome\", \"expressed_sequence_match\")]}}\n",
      "\n",
      "est_dict = {1:[], 2:[], 3:[], 4:[], 5:[], 6:[], 7:[], 8:[], 9:[]} \n",
      "# a dictionary with keys = contig ids\n",
      "#values = a dictionary with keys = gff filename and value = list of the locations [begin, end] of the feature\n",
      "\n",
      "\n",
      "for in_file in limit_info: # loop over each feature in .gff file\n",
      "    in_handle = open(in_file) # open up the .gff file\n",
      "    print \"limit_info[in_file]\", limit_info[in_file] # print the limits (the interesting fields) for that .gff\n",
      "    for lg in GFF.parse(in_handle, limit_info=limit_info[in_file]): #for each linkage group in the gff file having a limit value\n",
      "        chrom = int(lg.id[-1])\n",
      "        for feat in lg.features:\n",
      "            est_dict[chrom].append([int(feat.location.start), int(feat.location.end)]) \n",
      "            #this adds the begining and end position of each feature to a list\n",
      "\n",
      "\n",
      "    "
     ],
     "language": "python",
     "metadata": {},
     "outputs": [
      {
       "output_type": "stream",
       "stream": "stdout",
       "text": [
        "limit_info[in_file] {'gff_source_type': [('est2genome', 'expressed_sequence_match')]}\n"
       ]
      }
     ],
     "prompt_number": 2
    },
    {
     "cell_type": "heading",
     "level": 3,
     "metadata": {},
     "source": [
      "Now that we have the locations of the ESTs, lets find the maximum BP position of an EST in lettuce to break up into bins"
     ]
    },
    {
     "cell_type": "code",
     "collapsed": false,
     "input": [
      "maximums = {} \n",
      "# a dictionary with a key for each linkage group and the value of the maximum BP position of the last EST\n",
      "\n",
      "for lg in est_dict: #for each key (linkage group) in the dictionary of EST start and stop positions\n",
      "    endpos = [s[1] for s in est_dict[lg]] #make a list of all the end positions of all ESTs in that linkage group\n",
      "    maxpos = max(endpos) #find the maximum end position of all ESTs in the linkage group in this loop\n",
      "    maximums[lg] = maxpos #append the maximum end position to a dictionary who's keys are the linkage groups   \n",
      "    "
     ],
     "language": "python",
     "metadata": {},
     "outputs": [],
     "prompt_number": 3
    },
    {
     "cell_type": "code",
     "collapsed": false,
     "input": [
      "binslist = {p:[[]]*((maximums[p]/100000)+1) for p in maximums} \n",
      "#a dictionary with keys that are the same as those in maximums (one for each linkage group),\n",
      "# and values that are a list of lists the number of 100000 bp bins to assign values to for each linkage group \n",
      "\n",
      "for lists in binslist:\n",
      "    if len(binslist[lists]) > 6000: #6000 chose arbitrarily as a large number of bin lists\n",
      "        print 'Bin Size Insufficient!'\n",
      "        break\n",
      "        #monitors how many bins are present for each linkage group, bin size should be increased if error prints \n",
      "\n",
      "for entry in est_dict: #for each key (linkage group) in the dictionary of ESTs\n",
      "    for posin in est_dict[entry]: #for each EST [Start, Stop] list in each Linkage Group of the EST dictionary \n",
      "        midpoint = (posin[0]+((posin[1]-posin[0])/2)) #calculate the midpoint as the end position minus the start position divided by 2\n",
      "        whatbin = midpoint/100000 #the midpoint divided by the binsize (100,000) determines what number bin the EST will go in\n",
      "        binslist[entry][whatbin] = binslist[entry][whatbin] + [posin] \n",
      "        #adds the EST [Start,Stop] list to the correct bin number within the Linkage Group key in the Binslist Dictionary"
     ],
     "language": "python",
     "metadata": {},
     "outputs": [],
     "prompt_number": 4
    },
    {
     "cell_type": "heading",
     "level": 4,
     "metadata": {},
     "source": [
      "Confirmation that ESTs have been Binned Correctly"
     ]
    },
    {
     "cell_type": "code",
     "collapsed": false,
     "input": [
      "for j in binslist: #for each Linkage Group in the dictionary of ESTs put into bins\n",
      "    a = [len(i) for i in binslist[j]] #a is how many entries are in each list of bins for each linkage group\n",
      "    print j, \"Number of Bins\", len(a)\n",
      "    print \"Total number of Features in All Bins\", sum(a)\n",
      "    assert sum(a) == len(est_dict[j]) \n",
      "#makes sure the number of all features for all bins for each LG matches the number of features that were present in the EST dict for that LG\n",
      "    print\n",
      "    "
     ],
     "language": "python",
     "metadata": {},
     "outputs": [
      {
       "output_type": "stream",
       "stream": "stdout",
       "text": [
        "1 Number of Bins 2529\n",
        "Total number of Features in All Bins 30432\n",
        "\n",
        "2 Number of Bins 2692\n",
        "Total number of Features in All Bins 31917\n",
        "\n",
        "3 Number of Bins 2685\n",
        "Total number of Features in All Bins 26593\n",
        "\n",
        "4 Number of Bins 4120\n",
        "Total number of Features in All Bins 22473\n",
        "\n",
        "5 Number of Bins 4099\n",
        "Total number of Features in All Bins 44723\n",
        "\n",
        "6 Number of Bins 2448\n",
        "Total number of Features in All Bins 25903\n",
        "\n",
        "7 Number of Bins 2430\n",
        "Total number of Features in All Bins 23946\n",
        "\n",
        "8 Number of Bins 3506\n",
        "Total number of Features in All Bins 32834\n",
        "\n",
        "9 Number of Bins 2529\n",
        "Total number of Features in All Bins 26404\n",
        "\n"
       ]
      }
     ],
     "prompt_number": 5
    },
    {
     "cell_type": "heading",
     "level": 1,
     "metadata": {},
     "source": [
      "Define marker positions"
     ]
    },
    {
     "cell_type": "code",
     "collapsed": false,
     "input": [
      "#this gives a brief summary of the input file features, so we can make sure our code will parse correctly\n",
      "#this code is not necessary for function\n",
      "\n",
      "#in_file = \"Lsat.1.v4.geneticMarkers.Lsativa-Lserriola_core_map.gff\"\n",
      "#examiner = GFFExaminer()\n",
      "#in_handle = open(in_file)\n",
      "#pprint.pprint(examiner.available_limits(in_handle))\n",
      "#in_handle.close()"
     ],
     "language": "python",
     "metadata": {},
     "outputs": [],
     "prompt_number": 6
    },
    {
     "cell_type": "code",
     "collapsed": false,
     "input": [
      "#Reference:http://biopython.org/wiki/GFF_Parsing\n",
      "# this cell creates a dictionary that uses the genetic markers document (as a CSV) \n",
      "\n",
      "marker_dict = {}\n",
      "\n",
      "with open('Lsat.1.v4.geneticMarkers.Lsativa-Lserriola_core_map.csv', \"rb\") as geneticmarkers:\n",
      "    summary = csv.reader(geneticmarkers)\n",
      "    for row in summary: #for each feature in the file\n",
      "        if row[1] == 'Salinas_x_Serriola_2011_Good': #if the crossmatch is 'Good', that entry is applicable\n",
      "            chromosome = row[0][-1] #pulls out the chromosome number \n",
      "            bpStart = min(row[3:5]) #pulls out the start position of that entry\n",
      "            bpStop = max(row[3:5]) #pulls out the stop position of that entry\n",
      "            #regular expressions - reg ex\n",
      "            findID = re.search(\"ID=.*;N\", row[-1]) #pull out the ID name as ID=.*\n",
      "            idSlice = row[-1][findID.start():findID.end()-2] #from the pulled out ID segment, slice out only the name (ie remove 'ID=')         \n",
      "            "
     ],
     "language": "python",
     "metadata": {},
     "outputs": [],
     "prompt_number": 7
    },
    {
     "cell_type": "raw",
     "metadata": {},
     "source": [
      "#Testing to see if Name and ID are the same\n",
      "#if using this code, change format from Raw Text to Code\n",
      "\n",
      "with open('Lsat.1.v4.geneticMarkers.Lsativa-Lserriola_core_map.csv', \"rb\") as geneticmarkers:\n",
      "    summary = csv.reader(geneticmarkers)\n",
      "    rowcounter = 0\n",
      "    for row in summary:\n",
      "        if row[1] == 'Salinas_x_Serriola_2011_Good':\n",
      "            chromosome = row[0][-1]\n",
      "            findID = re.search(\"ID=.*;N\", row[-1])\n",
      "            findName = re.search(\"Name=.*;A\", row[-1])\n",
      "            idSlice = row[-1][findID.start():findID.end()-2] \n",
      "            nameSlice = row[-1][findName.start():findName.end()-2]\n",
      "            if idSlice[3:100] == nameSlice[5:100]:\n",
      "                print \"Name Slice can be be disregarded\"\n",
      "            else:\n",
      "                print \"ID and Name are not interchangeable\"\n",
      "                break\n",
      "                \n",
      "#this confirms that we can just use the ID to refer to the EST3"
     ]
    },
    {
     "cell_type": "code",
     "collapsed": false,
     "input": [
      "# second element of the key tuple will be Associated Marker\n",
      "# value for marker dictionary will be [chrom, [start, stop]]\n",
      "\n",
      "marker_dict = dict()\n",
      "# dict key: tuple of (ID, Associated Marker), dict value: [chromosome, [start, stop pos]]\n",
      "\n",
      "with open('Lsat.1.v4.geneticMarkers.Lsativa-Lserriola_core_map.csv', \"rb\") as geneticmarkers:\n",
      "    summary = csv.reader(geneticmarkers)\n",
      "    for row in summary:\n",
      "        if row[1] == 'Salinas_x_Serriola_2011_Good': #limits the entries of the files to only good Salinas Serriola Crosses\n",
      "            chromo = row[0][-1] #pulls out the chromosome number of the entry\n",
      "            name = re.search(\"ID=.*;N\", row[-1]) #pulls out the ID using regular expressions (this may be specific for each file\n",
      "            markername = row[-1][name.start()+3:name.end()-2] #with the ID pulled out, marker name removes the excess letters 'ID='\n",
      "            assoc = re.search(\"Associated_marker=.*;C\", row[-1])#pulls out the Associated Markers\n",
      "            assocmarker = row[-1][assoc.start()+18:assoc.end()-2] #with the Assoc. Marker pulled out, assocmarker emoves the excess letters 'Associated_Marker=''\n",
      "            keytuple = (markername, assocmarker) #makes a tuple of (ID, Associated Marker)\n",
      "            markerstart = row[3] #pulls out start position\n",
      "            markerstop = row[4] #pulls out stop position\n",
      "            posin = [markerstart, markerstop] #makes a list of start and stop position for the entry\n",
      "            dictvalue = [chromo, posin] #assigns chromosome#, and position list to one variable\n",
      "            marker_dict[keytuple] = (dictvalue) #uses the variable for they keytuple and the variable for the value list(s) to amend to MarkerDict                               "
     ],
     "language": "python",
     "metadata": {},
     "outputs": [],
     "prompt_number": 8
    },
    {
     "cell_type": "heading",
     "level": 1,
     "metadata": {},
     "source": [
      "INSERT THE GENETIC MARKER REGION IN THE CODING BOX BELOW"
     ]
    },
    {
     "cell_type": "raw",
     "metadata": {},
     "source": [
      "Paste the Total information for the desired input here:\n",
      "\n",
      "Input 1. QGG24G02.yg.ab1\n",
      "Input 2. CLS_S3_Contig10858\n",
      "\n",
      "Input 3.\n",
      "Input 4.\n",
      "\n",
      "Input 5.\n",
      "Input 6.\n",
      "..\n",
      "\n",
      "Copy just the ID or Associated Marker from each entry and paste into the box below with the corresponding input\n"
     ]
    },
    {
     "cell_type": "code",
     "collapsed": false,
     "input": [
      "input1 = 'QGG24G02.yg.ab1'\n",
      "input2 = 'CLS_S3_Contig10858'\n",
      "input3 = ''\n",
      "input4 = ''\n",
      "input5 = ''\n",
      "input6 = ''\n",
      "\n",
      "bounding_markers = [[input1, input2], [input3, input4], [input5, input6]] #add input lists as necessary if more than 3 pairs are required\n",
      "\n",
      "output_dict = {(x[0], x[1]):[] for x in bounding_markers} #makes an output dictionary with the keys being the inputs"
     ],
     "language": "python",
     "metadata": {},
     "outputs": [],
     "prompt_number": 17
    },
    {
     "cell_type": "code",
     "collapsed": false,
     "input": [
      "for inputs in bounding_markers:\n",
      "    assert len(inputs) == 2 #makes sure only one list has been isolated\n",
      "    chromlist = [] #empty list to add chromosome numbers to\n",
      "    poslist = [] #empty list to add start and stop positions to\n",
      "    for keys in marker_dict: #loops over the keys (ID, Associated Marker) in Marker Dictionary\n",
      "        if inputs[0] in keys or inputs[1] in keys: #looks for the inputs as the keys of Marker Dict\n",
      "            print marker_dict[keys]\n",
      "            chromlist.append(marker_dict[keys][0]) #adds the first entry (chromosome#) of the value list for the input key of markerdict to the previously made chromosome list\n",
      "            poslist = poslist + marker_dict[keys][1] #adds the second entry (start/stop posn) of the value list for the input key of markerdict to the previously made position list\n",
      "    #assert len(chromlist) == 2 #we only want the chromlist to have 2 entries - one for each entry\n",
      "    if chromlist[0] != chromlist[1]: #the entries must be equal (ie on same chromosome) if not, \n",
      "        print inputs, \"are not on same chromosome\" #error statement prints\n",
      "        break #code breaks\n",
      "    posvals = [] \n",
      "    for item in poslist: #for each entry in position list\n",
      "        posvals.append(int(item)) #make the entry an integer, rather than a string\n",
      "    lowbound = min(posvals) #find the minimum position in that list of the start and stops of each input\n",
      "    highbound = max(posvals) #find the maximum position in that last of the start and stops of each input\n",
      "    dist = highbound - lowbound #find the total distance between the start of the first input, and the end of the last input\n",
      "    minbin = ((lowbound)/100000) #determine that the minimum bin # that the input range falls into for that chromosome\n",
      "    maxbin = ((highbound)/100000)#determine that the maximum bin # that the input range falls into for that chromosome\n",
      "    if minbin != maxbin: #this asks if the inputs span multiple bins, or if they are within the same bin\n",
      "        print \"Inputs are on same chromosome, but in different bins\" #statement of FYI that you will probably have a lot of entries\n",
      "        binrange = range(minbin, maxbin+1) #define the binrange\n",
      "        for k in binrange: #for each bin number in the range between the bins\n",
      "            print 'Searching Bin Number:', k\n",
      "            tyr = int(chromlist[0]) #turns the chromosome number of the first input from a string to an integer, only one input needs to have this done because they should be on the same chromosome (otherwise the error would print)\n",
      "            print 'Number of Total Entries within the Selected Bin', len(binslist[tyr][k]) #asks how many entries are in the bin on the chromosome of the input\n",
      "            for b in binslist[tyr][k]: #for each entry in that bin within the range of the inputs bins, on that chromosome,\n",
      "                if b[0] in range(lowbound, highbound+1) or b[1] in range(lowbound, highbound+1): #ask if either the start b[0] or stop b[0] are within the range of the input boundaries\n",
      "                    bounding_tuple = (inputs[0], inputs[1]) #if they are, produce a tuple of the input entry names\n",
      "                    output_dict[bounding_tuple].append(b) #append the found entry to a dictionary with keys that are the input names tuple\n",
      "                    print 'Found Entry. Appended to OutputDictionary'\n",
      "                else:\n",
      "                    print b, \"is not in range of\", lowbound, \"to\", highbound #not necessary for code - just makes sure it is checking correctly\n",
      "            #break #temp for testing \n",
      "    if minbin == maxbin: #if they are in the same bin\n",
      "        print \"Inputs are on same chromosome, and in same bin\" #this is good, only one biin needs to be specified\n",
      "        tyr = int(chromlist[0]) #make the chromosome number into a number/integer\n",
      "        for b in binslist[tyr][minbin]: #for each entry in the list of entries denoted by bin number, minbin, on chromosome key, tyr, in the dictionary of all binned entries\n",
      "            if b[0] in range(lowbound, highbound+1) or b[1] in range(lowbound, highbound+1): #if the entry falls within the range of the inputs\n",
      "                bounding_tuple = (inputs[0], inputs[1]) #create a tuple with the input names (important if more than 1 input pair)\n",
      "                output_dict[bounding_tuple].append(b) #append a dictionary with the entry start and stop, whos key is the input names\n",
      "                \n",
      "        "
     ],
     "language": "python",
     "metadata": {},
     "outputs": [
      {
       "output_type": "stream",
       "stream": "stdout",
       "text": [
        "['8', ['194379659', '194381031']]\n",
        "['8', ['204513384', '204514193']]\n",
        "Inputs are on same chromosome, but in different bins\n",
        "Searching Bin Number: 1943\n",
        "Number of Total Entries within the Selected Bin 45\n",
        "[194301974, 194302718]"
       ]
      },
      {
       "output_type": "stream",
       "stream": "stdout",
       "text": [
        " is not in range of 194379659 to 204514193\n",
        "[194302206, 194302718]"
       ]
      },
      {
       "output_type": "stream",
       "stream": "stdout",
       "text": [
        " is not in range of 194379659 to 204514193\n",
        "[194302219, 194302746]"
       ]
      },
      {
       "output_type": "stream",
       "stream": "stdout",
       "text": [
        " is not in range of 194379659 to 204514193\n",
        "[194302785, 194303349]"
       ]
      },
      {
       "output_type": "stream",
       "stream": "stdout",
       "text": [
        " is not in range of 194379659 to 204514193\n",
        "[194302844, 194304036]"
       ]
      },
      {
       "output_type": "stream",
       "stream": "stdout",
       "text": [
        " is not in range of 194379659 to 204514193\n",
        "[194303244, 194303791]"
       ]
      },
      {
       "output_type": "stream",
       "stream": "stdout",
       "text": [
        " is not in range of 194379659 to 204514193\n",
        "[194303376, 194303675]"
       ]
      },
      {
       "output_type": "stream",
       "stream": "stdout",
       "text": [
        " is not in range of 194379659 to 204514193\n",
        "[194321305, 194321896]"
       ]
      },
      {
       "output_type": "stream",
       "stream": "stdout",
       "text": [
        " is not in range of 194379659 to 204514193\n",
        "[194327768, 194328886]"
       ]
      },
      {
       "output_type": "stream",
       "stream": "stdout",
       "text": [
        " is not in range of 194379659 to 204514193\n",
        "[194328115, 194329823]"
       ]
      },
      {
       "output_type": "stream",
       "stream": "stdout",
       "text": [
        " is not in range of 194379659 to 204514193\n",
        "[194328115, 194329677]"
       ]
      },
      {
       "output_type": "stream",
       "stream": "stdout",
       "text": [
        " is not in range of 194379659 to 204514193\n",
        "[194328116, 194328431]"
       ]
      },
      {
       "output_type": "stream",
       "stream": "stdout",
       "text": [
        " is not in range of 194379659 to 204514193\n",
        "[194328266, 194328884]"
       ]
      },
      {
       "output_type": "stream",
       "stream": "stdout",
       "text": [
        " is not in range of 194379659 to 204514193\n",
        "[194328285, 194329351]"
       ]
      },
      {
       "output_type": "stream",
       "stream": "stdout",
       "text": [
        " is not in range of 194379659 to 204514193\n",
        "[194329256, 194330888]"
       ]
      },
      {
       "output_type": "stream",
       "stream": "stdout",
       "text": [
        " is not in range of 194379659 to 204514193\n",
        "[194329796, 194331179]"
       ]
      },
      {
       "output_type": "stream",
       "stream": "stdout",
       "text": [
        " is not in range of 194379659 to 204514193\n",
        "[194337397, 194337730]"
       ]
      },
      {
       "output_type": "stream",
       "stream": "stdout",
       "text": [
        " is not in range of 194379659 to 204514193\n",
        "[194340122, 194340654]"
       ]
      },
      {
       "output_type": "stream",
       "stream": "stdout",
       "text": [
        " is not in range of 194379659 to 204514193\n",
        "[194340353, 194340787]"
       ]
      },
      {
       "output_type": "stream",
       "stream": "stdout",
       "text": [
        " is not in range of 194379659 to 204514193\n",
        "[194343634, 194352415]"
       ]
      },
      {
       "output_type": "stream",
       "stream": "stdout",
       "text": [
        " is not in range of 194379659 to 204514193\n",
        "[194346781, 194347081]"
       ]
      },
      {
       "output_type": "stream",
       "stream": "stdout",
       "text": [
        " is not in range of 194379659 to 204514193\n",
        "[194348667, 194348992]"
       ]
      },
      {
       "output_type": "stream",
       "stream": "stdout",
       "text": [
        " is not in range of 194379659 to 204514193\n",
        "[194351003, 194351399]"
       ]
      },
      {
       "output_type": "stream",
       "stream": "stdout",
       "text": [
        " is not in range of 194379659 to 204514193\n",
        "[194351458, 194351953]"
       ]
      },
      {
       "output_type": "stream",
       "stream": "stdout",
       "text": [
        " is not in range of 194379659 to 204514193\n",
        "[194364709, 194365512]"
       ]
      },
      {
       "output_type": "stream",
       "stream": "stdout",
       "text": [
        " is not in range of 194379659 to 204514193\n",
        "[194365524, 194365927]"
       ]
      },
      {
       "output_type": "stream",
       "stream": "stdout",
       "text": [
        " is not in range of 194379659 to 204514193\n",
        "[194370079, 194370556]"
       ]
      },
      {
       "output_type": "stream",
       "stream": "stdout",
       "text": [
        " is not in range of 194379659 to 204514193\n",
        "[194374012, 194374337]"
       ]
      },
      {
       "output_type": "stream",
       "stream": "stdout",
       "text": [
        " is not in range of 194379659 to 204514193\n",
        "[194374858, 194377015]"
       ]
      },
      {
       "output_type": "stream",
       "stream": "stdout",
       "text": [
        " is not in range of 194379659 to 204514193\n",
        "[194374860, 194378601]"
       ]
      },
      {
       "output_type": "stream",
       "stream": "stdout",
       "text": [
        " is not in range of 194379659 to 204514193\n",
        "[194374862, 194376809]"
       ]
      },
      {
       "output_type": "stream",
       "stream": "stdout",
       "text": [
        " is not in range of 194379659 to 204514193\n",
        "[194374884, 194375274]"
       ]
      },
      {
       "output_type": "stream",
       "stream": "stdout",
       "text": [
        " is not in range of 194379659 to 204514193\n",
        "[194375214, 194378562]"
       ]
      },
      {
       "output_type": "stream",
       "stream": "stdout",
       "text": [
        " is not in range of 194379659 to 204514193\n",
        "[194377572, 194377918]"
       ]
      },
      {
       "output_type": "stream",
       "stream": "stdout",
       "text": [
        " is not in range of 194379659 to 204514193\n",
        "Searching Bin Number:"
       ]
      },
      {
       "output_type": "stream",
       "stream": "stdout",
       "text": [
        " 1944\n",
        "Number of Total Entries within the Selected Bin 10\n",
        "Searching Bin Number:"
       ]
      },
      {
       "output_type": "stream",
       "stream": "stdout",
       "text": [
        " 1945\n",
        "Number of Total Entries within the Selected Bin 8\n",
        "Searching Bin Number:"
       ]
      },
      {
       "output_type": "stream",
       "stream": "stdout",
       "text": [
        " 1946\n",
        "Number of Total Entries within the Selected Bin 7\n",
        "Searching Bin Number:"
       ]
      },
      {
       "output_type": "stream",
       "stream": "stdout",
       "text": [
        " 1947\n",
        "Number of Total Entries within the Selected Bin 20\n",
        "Searching Bin Number:"
       ]
      },
      {
       "output_type": "stream",
       "stream": "stdout",
       "text": [
        " 1948\n",
        "Number of Total Entries within the Selected Bin 0\n",
        "Searching Bin Number: 1949\n",
        "Number of Total Entries within the Selected Bin 0\n",
        "Searching Bin Number: 1950\n",
        "Number of Total Entries within the Selected Bin 0\n",
        "Searching Bin Number: 1951\n",
        "Number of Total Entries within the Selected Bin 0\n",
        "Searching Bin Number: 1952\n",
        "Number of Total Entries within the Selected Bin 4\n",
        "Searching Bin Number:"
       ]
      },
      {
       "output_type": "stream",
       "stream": "stdout",
       "text": [
        " 1953\n",
        "Number of Total Entries within the Selected Bin 16\n",
        "Searching Bin Number:"
       ]
      },
      {
       "output_type": "stream",
       "stream": "stdout",
       "text": [
        " 1954\n",
        "Number of Total Entries within the Selected Bin 17\n",
        "Searching Bin Number:"
       ]
      },
      {
       "output_type": "stream",
       "stream": "stdout",
       "text": [
        " 1955\n",
        "Number of Total Entries within the Selected Bin 20\n",
        "Searching Bin Number:"
       ]
      },
      {
       "output_type": "stream",
       "stream": "stdout",
       "text": [
        " 1956\n",
        "Number of Total Entries within the Selected Bin 9\n",
        "Searching Bin Number:"
       ]
      },
      {
       "output_type": "stream",
       "stream": "stdout",
       "text": [
        " 1957\n",
        "Number of Total Entries within the Selected Bin 24\n",
        "Searching Bin Number:"
       ]
      },
      {
       "output_type": "stream",
       "stream": "stdout",
       "text": [
        " 1958\n",
        "Number of Total Entries within the Selected Bin 10\n",
        "Searching Bin Number:"
       ]
      },
      {
       "output_type": "stream",
       "stream": "stdout",
       "text": [
        " 1959\n",
        "Number of Total Entries within the Selected Bin 15\n",
        "Searching Bin Number:"
       ]
      },
      {
       "output_type": "stream",
       "stream": "stdout",
       "text": [
        " 1960\n",
        "Number of Total Entries within the Selected Bin 14\n",
        "Searching Bin Number:"
       ]
      },
      {
       "output_type": "stream",
       "stream": "stdout",
       "text": [
        " 1961\n",
        "Number of Total Entries within the Selected Bin 30\n",
        "Searching Bin Number:"
       ]
      },
      {
       "output_type": "stream",
       "stream": "stdout",
       "text": [
        " 1962\n",
        "Number of Total Entries within the Selected Bin 16\n",
        "Searching Bin Number:"
       ]
      },
      {
       "output_type": "stream",
       "stream": "stdout",
       "text": [
        " 1963\n",
        "Number of Total Entries within the Selected Bin 9\n",
        "Searching Bin Number:"
       ]
      },
      {
       "output_type": "stream",
       "stream": "stdout",
       "text": [
        " 1964\n",
        "Number of Total Entries within the Selected Bin 31\n",
        "Searching Bin Number:"
       ]
      },
      {
       "output_type": "stream",
       "stream": "stdout",
       "text": [
        " 1965\n",
        "Number of Total Entries within the Selected Bin 27\n",
        "Searching Bin Number:"
       ]
      },
      {
       "output_type": "stream",
       "stream": "stdout",
       "text": [
        " 1966\n",
        "Number of Total Entries within the Selected Bin 2\n",
        "Searching Bin Number:"
       ]
      },
      {
       "output_type": "stream",
       "stream": "stdout",
       "text": [
        " 1967\n",
        "Number of Total Entries within the Selected Bin 0\n",
        "Searching Bin Number: 1968\n",
        "Number of Total Entries within the Selected Bin 0\n",
        "Searching Bin Number: 1969\n",
        "Number of Total Entries within the Selected Bin 0\n",
        "Searching Bin Number: 1970\n",
        "Number of Total Entries within the Selected Bin 0\n",
        "Searching Bin Number: 1971\n",
        "Number of Total Entries within the Selected Bin 0\n",
        "Searching Bin Number: 1972\n",
        "Number of Total Entries within the Selected Bin 0\n",
        "Searching Bin Number: 1973\n",
        "Number of Total Entries within the Selected Bin 16\n",
        "Searching Bin Number:"
       ]
      },
      {
       "output_type": "stream",
       "stream": "stdout",
       "text": [
        " 1974\n",
        "Number of Total Entries within the Selected Bin 6\n",
        "Searching Bin Number:"
       ]
      },
      {
       "output_type": "stream",
       "stream": "stdout",
       "text": [
        " 1975\n",
        "Number of Total Entries within the Selected Bin 19\n",
        "Searching Bin Number:"
       ]
      },
      {
       "output_type": "stream",
       "stream": "stdout",
       "text": [
        " 1976\n",
        "Number of Total Entries within the Selected Bin 9\n",
        "Searching Bin Number:"
       ]
      },
      {
       "output_type": "stream",
       "stream": "stdout",
       "text": [
        " 1977\n",
        "Number of Total Entries within the Selected Bin 34\n",
        "Searching Bin Number:"
       ]
      },
      {
       "output_type": "stream",
       "stream": "stdout",
       "text": [
        " 1978\n",
        "Number of Total Entries within the Selected Bin 20\n",
        "Searching Bin Number:"
       ]
      },
      {
       "output_type": "stream",
       "stream": "stdout",
       "text": [
        " 1979\n",
        "Number of Total Entries within the Selected Bin 14\n",
        "Searching Bin Number:"
       ]
      },
      {
       "output_type": "stream",
       "stream": "stdout",
       "text": [
        " 1980\n",
        "Number of Total Entries within the Selected Bin 4\n",
        "Searching Bin Number:"
       ]
      },
      {
       "output_type": "stream",
       "stream": "stdout",
       "text": [
        " 1981\n",
        "Number of Total Entries within the Selected Bin 0\n",
        "Searching Bin Number: 1982\n",
        "Number of Total Entries within the Selected Bin 0\n",
        "Searching Bin Number: 1983\n",
        "Number of Total Entries within the Selected Bin 0\n",
        "Searching Bin Number: 1984\n",
        "Number of Total Entries within the Selected Bin 0\n",
        "Searching Bin Number: 1985\n",
        "Number of Total Entries within the Selected Bin 41\n",
        "Searching Bin Number:"
       ]
      },
      {
       "output_type": "stream",
       "stream": "stdout",
       "text": [
        " 1986\n",
        "Number of Total Entries within the Selected Bin 27\n",
        "Searching Bin Number:"
       ]
      },
      {
       "output_type": "stream",
       "stream": "stdout",
       "text": [
        " 1987\n",
        "Number of Total Entries within the Selected Bin 14\n",
        "Searching Bin Number:"
       ]
      },
      {
       "output_type": "stream",
       "stream": "stdout",
       "text": [
        " 1988\n",
        "Number of Total Entries within the Selected Bin 27\n",
        "Searching Bin Number:"
       ]
      },
      {
       "output_type": "stream",
       "stream": "stdout",
       "text": [
        " 1989\n",
        "Number of Total Entries within the Selected Bin 23\n",
        "Searching Bin Number:"
       ]
      },
      {
       "output_type": "stream",
       "stream": "stdout",
       "text": [
        " 1990\n",
        "Number of Total Entries within the Selected Bin 13\n",
        "Searching Bin Number:"
       ]
      },
      {
       "output_type": "stream",
       "stream": "stdout",
       "text": [
        " 1991\n",
        "Number of Total Entries within the Selected Bin 18\n",
        "Searching Bin Number:"
       ]
      },
      {
       "output_type": "stream",
       "stream": "stdout",
       "text": [
        " 1992\n",
        "Number of Total Entries within the Selected Bin 23\n",
        "Searching Bin Number:"
       ]
      },
      {
       "output_type": "stream",
       "stream": "stdout",
       "text": [
        " 1993\n",
        "Number of Total Entries within the Selected Bin 15\n",
        "Searching Bin Number:"
       ]
      },
      {
       "output_type": "stream",
       "stream": "stdout",
       "text": [
        " 1994\n",
        "Number of Total Entries within the Selected Bin 16\n",
        "Searching Bin Number:"
       ]
      },
      {
       "output_type": "stream",
       "stream": "stdout",
       "text": [
        " 1995\n",
        "Number of Total Entries within the Selected Bin 6\n",
        "Searching Bin Number:"
       ]
      },
      {
       "output_type": "stream",
       "stream": "stdout",
       "text": [
        " 1996\n",
        "Number of Total Entries within the Selected Bin 30\n",
        "Searching Bin Number:"
       ]
      },
      {
       "output_type": "stream",
       "stream": "stdout",
       "text": [
        " 1997\n",
        "Number of Total Entries within the Selected Bin 22\n",
        "Searching Bin Number:"
       ]
      },
      {
       "output_type": "stream",
       "stream": "stdout",
       "text": [
        " 1998\n",
        "Number of Total Entries within the Selected Bin 43\n",
        "Searching Bin Number:"
       ]
      },
      {
       "output_type": "stream",
       "stream": "stdout",
       "text": [
        " 1999\n",
        "Number of Total Entries within the Selected Bin 14\n",
        "Searching Bin Number:"
       ]
      },
      {
       "output_type": "stream",
       "stream": "stdout",
       "text": [
        " 2000\n",
        "Number of Total Entries within the Selected Bin 50\n",
        "Searching Bin Number:"
       ]
      },
      {
       "ename": "KeyboardInterrupt",
       "evalue": "",
       "output_type": "pyerr",
       "traceback": [
        "\u001b[1;31m---------------------------------------------------------------------------\u001b[0m\n\u001b[1;31mKeyboardInterrupt\u001b[0m                         Traceback (most recent call last)",
        "\u001b[1;32m<ipython-input-22-f5963b3253d5>\u001b[0m in \u001b[0;36m<module>\u001b[1;34m()\u001b[0m\n\u001b[0;32m     24\u001b[0m         \u001b[0mbinrange\u001b[0m \u001b[1;33m=\u001b[0m \u001b[0mrange\u001b[0m\u001b[1;33m(\u001b[0m\u001b[0mminbin\u001b[0m\u001b[1;33m,\u001b[0m \u001b[0mmaxbin\u001b[0m\u001b[1;33m+\u001b[0m\u001b[1;36m1\u001b[0m\u001b[1;33m)\u001b[0m \u001b[1;31m#define the binrange\u001b[0m\u001b[1;33m\u001b[0m\u001b[0m\n\u001b[0;32m     25\u001b[0m         \u001b[1;32mfor\u001b[0m \u001b[0mk\u001b[0m \u001b[1;32min\u001b[0m \u001b[0mbinrange\u001b[0m\u001b[1;33m:\u001b[0m \u001b[1;31m#for each bin number in the range between the bins\u001b[0m\u001b[1;33m\u001b[0m\u001b[0m\n\u001b[1;32m---> 26\u001b[1;33m             \u001b[1;32mprint\u001b[0m \u001b[1;34m'Searching Bin Number:'\u001b[0m\u001b[1;33m,\u001b[0m \u001b[0mk\u001b[0m\u001b[1;33m\u001b[0m\u001b[0m\n\u001b[0m\u001b[0;32m     27\u001b[0m             \u001b[0mtyr\u001b[0m \u001b[1;33m=\u001b[0m \u001b[0mint\u001b[0m\u001b[1;33m(\u001b[0m\u001b[0mchromlist\u001b[0m\u001b[1;33m[\u001b[0m\u001b[1;36m0\u001b[0m\u001b[1;33m]\u001b[0m\u001b[1;33m)\u001b[0m \u001b[1;31m#turns the chromosome number of the first input from a string to an integer, only one input needs to have this done because they should be on the same chromosome (otherwise the error would print)\u001b[0m\u001b[1;33m\u001b[0m\u001b[0m\n\u001b[0;32m     28\u001b[0m             \u001b[1;32mprint\u001b[0m \u001b[1;34m'Number of Total Entries within the Selected Bin'\u001b[0m\u001b[1;33m,\u001b[0m \u001b[0mlen\u001b[0m\u001b[1;33m(\u001b[0m\u001b[0mbinslist\u001b[0m\u001b[1;33m[\u001b[0m\u001b[0mtyr\u001b[0m\u001b[1;33m]\u001b[0m\u001b[1;33m[\u001b[0m\u001b[0mk\u001b[0m\u001b[1;33m]\u001b[0m\u001b[1;33m)\u001b[0m \u001b[1;31m#asks how many entries are in the bin on the chromosome of the input\u001b[0m\u001b[1;33m\u001b[0m\u001b[0m\n",
        "\u001b[1;32mC:\\Users\\Alex\\Anaconda\\lib\\site-packages\\IPython\\kernel\\zmq\\iostream.pyc\u001b[0m in \u001b[0;36mwrite\u001b[1;34m(self, string)\u001b[0m\n\u001b[0;32m    198\u001b[0m                 \u001b[0mself\u001b[0m\u001b[1;33m.\u001b[0m\u001b[0m_start\u001b[0m \u001b[1;33m=\u001b[0m \u001b[0mcurrent_time\u001b[0m\u001b[1;33m\u001b[0m\u001b[0m\n\u001b[0;32m    199\u001b[0m             \u001b[1;32melif\u001b[0m \u001b[0mcurrent_time\u001b[0m \u001b[1;33m-\u001b[0m \u001b[0mself\u001b[0m\u001b[1;33m.\u001b[0m\u001b[0m_start\u001b[0m \u001b[1;33m>\u001b[0m \u001b[0mself\u001b[0m\u001b[1;33m.\u001b[0m\u001b[0mflush_interval\u001b[0m\u001b[1;33m:\u001b[0m\u001b[1;33m\u001b[0m\u001b[0m\n\u001b[1;32m--> 200\u001b[1;33m                 \u001b[0mself\u001b[0m\u001b[1;33m.\u001b[0m\u001b[0mflush\u001b[0m\u001b[1;33m(\u001b[0m\u001b[1;33m)\u001b[0m\u001b[1;33m\u001b[0m\u001b[0m\n\u001b[0m\u001b[0;32m    201\u001b[0m \u001b[1;33m\u001b[0m\u001b[0m\n\u001b[0;32m    202\u001b[0m     \u001b[1;32mdef\u001b[0m \u001b[0mwritelines\u001b[0m\u001b[1;33m(\u001b[0m\u001b[0mself\u001b[0m\u001b[1;33m,\u001b[0m \u001b[0msequence\u001b[0m\u001b[1;33m)\u001b[0m\u001b[1;33m:\u001b[0m\u001b[1;33m\u001b[0m\u001b[0m\n",
        "\u001b[1;32mC:\\Users\\Alex\\Anaconda\\lib\\site-packages\\IPython\\kernel\\zmq\\iostream.pyc\u001b[0m in \u001b[0;36mflush\u001b[1;34m(self)\u001b[0m\n\u001b[0;32m    129\u001b[0m         \u001b[1;32mif\u001b[0m \u001b[0mmp_mode\u001b[0m \u001b[1;33m!=\u001b[0m \u001b[0mCHILD\u001b[0m\u001b[1;33m:\u001b[0m\u001b[1;33m\u001b[0m\u001b[0m\n\u001b[0;32m    130\u001b[0m             \u001b[1;31m# we are master\u001b[0m\u001b[1;33m\u001b[0m\u001b[1;33m\u001b[0m\u001b[0m\n\u001b[1;32m--> 131\u001b[1;33m             \u001b[1;32mif\u001b[0m \u001b[1;32mnot\u001b[0m \u001b[0mself\u001b[0m\u001b[1;33m.\u001b[0m\u001b[0m_is_master_thread\u001b[0m\u001b[1;33m(\u001b[0m\u001b[1;33m)\u001b[0m\u001b[1;33m:\u001b[0m\u001b[1;33m\u001b[0m\u001b[0m\n\u001b[0m\u001b[0;32m    132\u001b[0m                 \u001b[1;31m# sub-threads must not trigger flush,\u001b[0m\u001b[1;33m\u001b[0m\u001b[1;33m\u001b[0m\u001b[0m\n\u001b[0;32m    133\u001b[0m                 \u001b[1;31m# but at least they can force the timer.\u001b[0m\u001b[1;33m\u001b[0m\u001b[1;33m\u001b[0m\u001b[0m\n",
        "\u001b[1;32mC:\\Users\\Alex\\Anaconda\\lib\\site-packages\\IPython\\kernel\\zmq\\iostream.pyc\u001b[0m in \u001b[0;36m_is_master_thread\u001b[1;34m(self)\u001b[0m\n\u001b[0;32m     81\u001b[0m \u001b[1;33m\u001b[0m\u001b[0m\n\u001b[0;32m     82\u001b[0m     \u001b[1;32mdef\u001b[0m \u001b[0m_is_master_thread\u001b[0m\u001b[1;33m(\u001b[0m\u001b[0mself\u001b[0m\u001b[1;33m)\u001b[0m\u001b[1;33m:\u001b[0m\u001b[1;33m\u001b[0m\u001b[0m\n\u001b[1;32m---> 83\u001b[1;33m         \u001b[1;32mreturn\u001b[0m \u001b[0mthreading\u001b[0m\u001b[1;33m.\u001b[0m\u001b[0mcurrent_thread\u001b[0m\u001b[1;33m(\u001b[0m\u001b[1;33m)\u001b[0m\u001b[1;33m.\u001b[0m\u001b[0mident\u001b[0m \u001b[1;33m==\u001b[0m \u001b[0mself\u001b[0m\u001b[1;33m.\u001b[0m\u001b[0m_master_thread\u001b[0m\u001b[1;33m\u001b[0m\u001b[0m\n\u001b[0m\u001b[0;32m     84\u001b[0m \u001b[1;33m\u001b[0m\u001b[0m\n\u001b[0;32m     85\u001b[0m     \u001b[1;32mdef\u001b[0m \u001b[0m_have_pipe_out\u001b[0m\u001b[1;33m(\u001b[0m\u001b[0mself\u001b[0m\u001b[1;33m)\u001b[0m\u001b[1;33m:\u001b[0m\u001b[1;33m\u001b[0m\u001b[0m\n",
        "\u001b[1;31mKeyboardInterrupt\u001b[0m: "
       ]
      },
      {
       "output_type": "stream",
       "stream": "stdout",
       "text": [
        " 2001\n",
        "Number of Total Entries within the Selected Bin 9\n",
        "Searching Bin Number:"
       ]
      }
     ],
     "prompt_number": 22
    },
    {
     "cell_type": "heading",
     "level": 4,
     "metadata": {},
     "source": [
      "INPUT THE FILES CONTAINING THE CHROMOSOME SEQUENCES FOR THE ORGANISM TESTED BY CHROMOSOME IN THE CELL BELOW"
     ]
    },
    {
     "cell_type": "code",
     "collapsed": false,
     "input": [
      "chromfiles = {1:'Lsat.1.v4.lg1.fasta', 2:'Lsat.1.v4.lg2.fasta', 3:'Lsat.1.v4.lg3.fasta', 4:'Lsat.1.v4.lg4.fasta', 5:'Lsat.1.v4.lg5.fasta', 6:'Lsat.1.v4.lg6.fasta', 7:'Lsat.1.v4.lg7.fasta', 8:'Lsat.1.v4.lg8.fasta', 9:'Lsat.1.v4.lg9.fasta',}\n",
      "#Allows the program to define which file is needed based on the chromosome later\n",
      "for ar in bounding_markers: #for each entry in the bounding markers dictionary - this yields the keys of the dictionary, which is a tuple of the names of the input pair. This is (ID NAME, Associated Marker)\n",
      "   print \"ar\", ar #should yield only the names that have been inputted previously for this run\n",
      "   for keys in marker_dict: #for each key in the marker dictionary\n",
      "       if ar[0] in keys or ar[1] in keys: #find the marker dictionary key that corresponds to the name of the inputs, either by ID/NAME or associated marker\n",
      "            print \"ar0\", ar[0] #print when it is found, to ensure we have the right one\n",
      "            print \"ar1\", ar[1]\n",
      "            seqlist = []\n",
      "            chrominfo = int(marker_dict[keys][0]) #the first value in each key of the marker dict is the chromosome it falls on, so this makes that an integer\n",
      "            print \"chromosome #\", chrominfo #confirms we're on the correct chromosome\n",
      "            fastafile = chromfiles[chrominfo] #selects the fasta file needed based on the chromosome number, from the dictionary above\n",
      "            print fastafile #confirms we have selected the right one\n",
      "            for seq_rec in SeqIO.parse(fastafile, \"fasta\"): #linkage group fasta is opened and sequence records are parsed\n",
      "                for k in output_dict: #for each key in the output dictionary (which is a tuple of the input file names)\n",
      "                    if ar[0] in k or ar[1] in k: #find where the name/id or associated marker of the marker dictionary matches the input names\n",
      "                        fastacounter = 1 #this will be used to name the sequence hits\n",
      "                        for feature in output_dict[k]: #for each feature in the appended output dictionary, with key (input name tuple)\n",
      "                            idname = ar[0]+\"_to_\"+ar[1]+\"_FastaNumber\"+str(fastacounter) #this prepares the name of the file, using the input names and numbers the hits\n",
      "                                                                                            #can use tring.replace if we need to change characters \n",
      "                            featseq = SeqRecord((seq_rec.seq[feature[0]:feature[1]+1]), id=idname, description='')#slices the fasta sequence for the whole chromosome to only the start and stop position of each hit\n",
      "                            print \"type(featseq)\", type(featseq) \n",
      "                            print featseq.id \n",
      "                            fastacounter += 1 #prepare for naming the next one with the next number\n",
      "                            seqlist.append(featseq) #Should be all set - but we may need to use SeqRecord to name appropriately - http://biopython.org/DIST/docs/tutorial/Tutorial.html#sec72\n",
      "            outfile = ar[0]+\"_\"+ar[1]+\"_\"+\"LettuceNCBI.fasta\" #names the output file based on the input names \n",
      "            SeqIO.write(seqlist, outfile, \"fasta\") #writes the new file\n",
      "            break #completes the code"
     ],
     "language": "python",
     "metadata": {},
     "outputs": [
      {
       "ename": "IOError",
       "evalue": "[Errno 2] No such file or directory: 'Lsat.1.v4.lg8.fasta'",
       "output_type": "pyerr",
       "traceback": [
        "\u001b[1;31m---------------------------------------------------------------------------\u001b[0m\n\u001b[1;31mIOError\u001b[0m                                   Traceback (most recent call last)",
        "\u001b[1;32m<ipython-input-23-9f453c3245a6>\u001b[0m in \u001b[0;36m<module>\u001b[1;34m()\u001b[0m\n\u001b[0;32m     12\u001b[0m             \u001b[0mfastafile\u001b[0m \u001b[1;33m=\u001b[0m \u001b[0mchromfiles\u001b[0m\u001b[1;33m[\u001b[0m\u001b[0mchrominfo\u001b[0m\u001b[1;33m]\u001b[0m \u001b[1;31m#selects the fasta file needed based on the chromosome number, from the dictionary above\u001b[0m\u001b[1;33m\u001b[0m\u001b[0m\n\u001b[0;32m     13\u001b[0m             \u001b[1;32mprint\u001b[0m \u001b[0mfastafile\u001b[0m \u001b[1;31m#confirms we have selected the right one\u001b[0m\u001b[1;33m\u001b[0m\u001b[0m\n\u001b[1;32m---> 14\u001b[1;33m             \u001b[1;32mfor\u001b[0m \u001b[0mseq_rec\u001b[0m \u001b[1;32min\u001b[0m \u001b[0mSeqIO\u001b[0m\u001b[1;33m.\u001b[0m\u001b[0mparse\u001b[0m\u001b[1;33m(\u001b[0m\u001b[0mfastafile\u001b[0m\u001b[1;33m,\u001b[0m \u001b[1;34m\"fasta\"\u001b[0m\u001b[1;33m)\u001b[0m\u001b[1;33m:\u001b[0m \u001b[1;31m#linkage group fasta is opened and sequence records are parsed\u001b[0m\u001b[1;33m\u001b[0m\u001b[0m\n\u001b[0m\u001b[0;32m     15\u001b[0m                 \u001b[1;32mfor\u001b[0m \u001b[0mk\u001b[0m \u001b[1;32min\u001b[0m \u001b[0moutput_dict\u001b[0m\u001b[1;33m:\u001b[0m \u001b[1;31m#for each key in the output dictionary (which is a tuple of the input file names)\u001b[0m\u001b[1;33m\u001b[0m\u001b[0m\n\u001b[0;32m     16\u001b[0m                     \u001b[1;32mif\u001b[0m \u001b[0mar\u001b[0m\u001b[1;33m[\u001b[0m\u001b[1;36m0\u001b[0m\u001b[1;33m]\u001b[0m \u001b[1;32min\u001b[0m \u001b[0mk\u001b[0m \u001b[1;32mor\u001b[0m \u001b[0mar\u001b[0m\u001b[1;33m[\u001b[0m\u001b[1;36m1\u001b[0m\u001b[1;33m]\u001b[0m \u001b[1;32min\u001b[0m \u001b[0mk\u001b[0m\u001b[1;33m:\u001b[0m \u001b[1;31m#find where the name/id or associated marker of the marker dictionary matches the input names\u001b[0m\u001b[1;33m\u001b[0m\u001b[0m\n",
        "\u001b[1;32mC:\\Users\\Alex\\Anaconda\\lib\\site-packages\\Bio\\SeqIO\\__init__.pyc\u001b[0m in \u001b[0;36mparse\u001b[1;34m(handle, format, alphabet)\u001b[0m\n\u001b[0;32m    520\u001b[0m         \u001b[1;32mraise\u001b[0m \u001b[0mValueError\u001b[0m\u001b[1;33m(\u001b[0m\u001b[1;34m\"Invalid alphabet, %s\"\u001b[0m \u001b[1;33m%\u001b[0m \u001b[0mrepr\u001b[0m\u001b[1;33m(\u001b[0m\u001b[0malphabet\u001b[0m\u001b[1;33m)\u001b[0m\u001b[1;33m)\u001b[0m\u001b[1;33m\u001b[0m\u001b[0m\n\u001b[0;32m    521\u001b[0m \u001b[1;33m\u001b[0m\u001b[0m\n\u001b[1;32m--> 522\u001b[1;33m     \u001b[1;32mwith\u001b[0m \u001b[0mas_handle\u001b[0m\u001b[1;33m(\u001b[0m\u001b[0mhandle\u001b[0m\u001b[1;33m,\u001b[0m \u001b[0mmode\u001b[0m\u001b[1;33m)\u001b[0m \u001b[1;32mas\u001b[0m \u001b[0mfp\u001b[0m\u001b[1;33m:\u001b[0m\u001b[1;33m\u001b[0m\u001b[0m\n\u001b[0m\u001b[0;32m    523\u001b[0m         \u001b[1;31m#Map the file format to a sequence iterator:\u001b[0m\u001b[1;33m\u001b[0m\u001b[1;33m\u001b[0m\u001b[0m\n\u001b[0;32m    524\u001b[0m         \u001b[1;32mif\u001b[0m \u001b[0mformat\u001b[0m \u001b[1;32min\u001b[0m \u001b[0m_FormatToIterator\u001b[0m\u001b[1;33m:\u001b[0m\u001b[1;33m\u001b[0m\u001b[0m\n",
        "\u001b[1;32mC:\\Users\\Alex\\Anaconda\\lib\\contextlib.pyc\u001b[0m in \u001b[0;36m__enter__\u001b[1;34m(self)\u001b[0m\n\u001b[0;32m     15\u001b[0m     \u001b[1;32mdef\u001b[0m \u001b[0m__enter__\u001b[0m\u001b[1;33m(\u001b[0m\u001b[0mself\u001b[0m\u001b[1;33m)\u001b[0m\u001b[1;33m:\u001b[0m\u001b[1;33m\u001b[0m\u001b[0m\n\u001b[0;32m     16\u001b[0m         \u001b[1;32mtry\u001b[0m\u001b[1;33m:\u001b[0m\u001b[1;33m\u001b[0m\u001b[0m\n\u001b[1;32m---> 17\u001b[1;33m             \u001b[1;32mreturn\u001b[0m \u001b[0mself\u001b[0m\u001b[1;33m.\u001b[0m\u001b[0mgen\u001b[0m\u001b[1;33m.\u001b[0m\u001b[0mnext\u001b[0m\u001b[1;33m(\u001b[0m\u001b[1;33m)\u001b[0m\u001b[1;33m\u001b[0m\u001b[0m\n\u001b[0m\u001b[0;32m     18\u001b[0m         \u001b[1;32mexcept\u001b[0m \u001b[0mStopIteration\u001b[0m\u001b[1;33m:\u001b[0m\u001b[1;33m\u001b[0m\u001b[0m\n\u001b[0;32m     19\u001b[0m             \u001b[1;32mraise\u001b[0m \u001b[0mRuntimeError\u001b[0m\u001b[1;33m(\u001b[0m\u001b[1;34m\"generator didn't yield\"\u001b[0m\u001b[1;33m)\u001b[0m\u001b[1;33m\u001b[0m\u001b[0m\n",
        "\u001b[1;32mC:\\Users\\Alex\\Anaconda\\lib\\site-packages\\Bio\\File.pyc\u001b[0m in \u001b[0;36mas_handle\u001b[1;34m(handleish, mode, **kwargs)\u001b[0m\n\u001b[0;32m     75\u001b[0m                 \u001b[1;32myield\u001b[0m \u001b[0mfp\u001b[0m\u001b[1;33m\u001b[0m\u001b[0m\n\u001b[0;32m     76\u001b[0m         \u001b[1;32melse\u001b[0m\u001b[1;33m:\u001b[0m\u001b[1;33m\u001b[0m\u001b[0m\n\u001b[1;32m---> 77\u001b[1;33m             \u001b[1;32mwith\u001b[0m \u001b[0mopen\u001b[0m\u001b[1;33m(\u001b[0m\u001b[0mhandleish\u001b[0m\u001b[1;33m,\u001b[0m \u001b[0mmode\u001b[0m\u001b[1;33m,\u001b[0m \u001b[1;33m**\u001b[0m\u001b[0mkwargs\u001b[0m\u001b[1;33m)\u001b[0m \u001b[1;32mas\u001b[0m \u001b[0mfp\u001b[0m\u001b[1;33m:\u001b[0m\u001b[1;33m\u001b[0m\u001b[0m\n\u001b[0m\u001b[0;32m     78\u001b[0m                 \u001b[1;32myield\u001b[0m \u001b[0mfp\u001b[0m\u001b[1;33m\u001b[0m\u001b[0m\n\u001b[0;32m     79\u001b[0m     \u001b[1;32melse\u001b[0m\u001b[1;33m:\u001b[0m\u001b[1;33m\u001b[0m\u001b[0m\n",
        "\u001b[1;31mIOError\u001b[0m: [Errno 2] No such file or directory: 'Lsat.1.v4.lg8.fasta'"
       ]
      },
      {
       "output_type": "stream",
       "stream": "stdout",
       "text": [
        "ar ['QGG24G02.yg.ab1', 'CLS_S3_Contig10858']\n",
        "ar0 QGG24G02.yg.ab1\n",
        "ar1 CLS_S3_Contig10858\n",
        "chromosome # 8\n",
        "Lsat.1.v4.lg8.fasta\n"
       ]
      }
     ],
     "prompt_number": 23
    },
    {
     "cell_type": "heading",
     "level": 2,
     "metadata": {},
     "source": [
      "Output should be a file whose name is the Input Names, and that contains numbered fasta sequences of the ESTs that fall within the region of the input IDs"
     ]
    }
   ],
   "metadata": {}
  }
 ]
}