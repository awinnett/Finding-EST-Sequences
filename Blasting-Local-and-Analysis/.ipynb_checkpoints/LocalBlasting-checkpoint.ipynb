{
 "metadata": {
  "name": ""
 },
 "nbformat": 3,
 "nbformat_minor": 0,
 "worksheets": [
  {
   "cells": [
    {
     "cell_type": "code",
     "collapsed": false,
     "input": [
      "from Bio import SeqIO\n",
      "\n",
      "import os\n",
      "\n",
      "#try to avoid using OS, and open python notebook from the dir that the DB will be in (ie. C:\\Program Files\\NCBI\\Blast-2.2.29+\\db\\extract)"
     ],
     "language": "python",
     "metadata": {},
     "outputs": [],
     "prompt_number": 1
    },
    {
     "cell_type": "code",
     "collapsed": false,
     "input": [
      "#os.chdir(\"C:\\Program Files\\NCBI\\Blast-2.2.29+\\db\\extract\")\n",
      "\n",
      "fasta = \"plantall.fna\"\n",
      "\n",
      "countrec = 0\n",
      "for seq_rec in SeqIO.parse(fasta, \"fasta\"):\n",
      "    countrec +=1\n",
      "print countrec\n",
      "\n",
      "#!makeblastdb -in plantall.fna -dbtype nucl -parse_seqids -out refseqplant\n",
      "\n",
      "#execute through terminal window ! (without !)\n"
     ],
     "language": "python",
     "metadata": {},
     "outputs": [
      {
       "ename": "IOError",
       "evalue": "[Errno 2] No such file or directory: 'plantall.fna'",
       "output_type": "pyerr",
       "traceback": [
        "\u001b[1;31m---------------------------------------------------------------------------\u001b[0m\n\u001b[1;31mIOError\u001b[0m                                   Traceback (most recent call last)",
        "\u001b[1;32m<ipython-input-2-b2623a2d4db3>\u001b[0m in \u001b[0;36m<module>\u001b[1;34m()\u001b[0m\n\u001b[0;32m      4\u001b[0m \u001b[1;33m\u001b[0m\u001b[0m\n\u001b[0;32m      5\u001b[0m \u001b[0mcountrec\u001b[0m \u001b[1;33m=\u001b[0m \u001b[1;36m0\u001b[0m\u001b[1;33m\u001b[0m\u001b[0m\n\u001b[1;32m----> 6\u001b[1;33m \u001b[1;32mfor\u001b[0m \u001b[0mseq_rec\u001b[0m \u001b[1;32min\u001b[0m \u001b[0mSeqIO\u001b[0m\u001b[1;33m.\u001b[0m\u001b[0mparse\u001b[0m\u001b[1;33m(\u001b[0m\u001b[0mfasta\u001b[0m\u001b[1;33m,\u001b[0m \u001b[1;34m\"fasta\"\u001b[0m\u001b[1;33m)\u001b[0m\u001b[1;33m:\u001b[0m\u001b[1;33m\u001b[0m\u001b[0m\n\u001b[0m\u001b[0;32m      7\u001b[0m     \u001b[0mcountrec\u001b[0m \u001b[1;33m+=\u001b[0m\u001b[1;36m1\u001b[0m\u001b[1;33m\u001b[0m\u001b[0m\n\u001b[0;32m      8\u001b[0m \u001b[1;32mprint\u001b[0m \u001b[0mcountrec\u001b[0m\u001b[1;33m\u001b[0m\u001b[0m\n",
        "\u001b[1;32mC:\\Users\\Alex\\Anaconda\\lib\\site-packages\\Bio\\SeqIO\\__init__.pyc\u001b[0m in \u001b[0;36mparse\u001b[1;34m(handle, format, alphabet)\u001b[0m\n\u001b[0;32m    520\u001b[0m         \u001b[1;32mraise\u001b[0m \u001b[0mValueError\u001b[0m\u001b[1;33m(\u001b[0m\u001b[1;34m\"Invalid alphabet, %s\"\u001b[0m \u001b[1;33m%\u001b[0m \u001b[0mrepr\u001b[0m\u001b[1;33m(\u001b[0m\u001b[0malphabet\u001b[0m\u001b[1;33m)\u001b[0m\u001b[1;33m)\u001b[0m\u001b[1;33m\u001b[0m\u001b[0m\n\u001b[0;32m    521\u001b[0m \u001b[1;33m\u001b[0m\u001b[0m\n\u001b[1;32m--> 522\u001b[1;33m     \u001b[1;32mwith\u001b[0m \u001b[0mas_handle\u001b[0m\u001b[1;33m(\u001b[0m\u001b[0mhandle\u001b[0m\u001b[1;33m,\u001b[0m \u001b[0mmode\u001b[0m\u001b[1;33m)\u001b[0m \u001b[1;32mas\u001b[0m \u001b[0mfp\u001b[0m\u001b[1;33m:\u001b[0m\u001b[1;33m\u001b[0m\u001b[0m\n\u001b[0m\u001b[0;32m    523\u001b[0m         \u001b[1;31m#Map the file format to a sequence iterator:\u001b[0m\u001b[1;33m\u001b[0m\u001b[1;33m\u001b[0m\u001b[0m\n\u001b[0;32m    524\u001b[0m         \u001b[1;32mif\u001b[0m \u001b[0mformat\u001b[0m \u001b[1;32min\u001b[0m \u001b[0m_FormatToIterator\u001b[0m\u001b[1;33m:\u001b[0m\u001b[1;33m\u001b[0m\u001b[0m\n",
        "\u001b[1;32mC:\\Users\\Alex\\Anaconda\\lib\\contextlib.pyc\u001b[0m in \u001b[0;36m__enter__\u001b[1;34m(self)\u001b[0m\n\u001b[0;32m     15\u001b[0m     \u001b[1;32mdef\u001b[0m \u001b[0m__enter__\u001b[0m\u001b[1;33m(\u001b[0m\u001b[0mself\u001b[0m\u001b[1;33m)\u001b[0m\u001b[1;33m:\u001b[0m\u001b[1;33m\u001b[0m\u001b[0m\n\u001b[0;32m     16\u001b[0m         \u001b[1;32mtry\u001b[0m\u001b[1;33m:\u001b[0m\u001b[1;33m\u001b[0m\u001b[0m\n\u001b[1;32m---> 17\u001b[1;33m             \u001b[1;32mreturn\u001b[0m \u001b[0mself\u001b[0m\u001b[1;33m.\u001b[0m\u001b[0mgen\u001b[0m\u001b[1;33m.\u001b[0m\u001b[0mnext\u001b[0m\u001b[1;33m(\u001b[0m\u001b[1;33m)\u001b[0m\u001b[1;33m\u001b[0m\u001b[0m\n\u001b[0m\u001b[0;32m     18\u001b[0m         \u001b[1;32mexcept\u001b[0m \u001b[0mStopIteration\u001b[0m\u001b[1;33m:\u001b[0m\u001b[1;33m\u001b[0m\u001b[0m\n\u001b[0;32m     19\u001b[0m             \u001b[1;32mraise\u001b[0m \u001b[0mRuntimeError\u001b[0m\u001b[1;33m(\u001b[0m\u001b[1;34m\"generator didn't yield\"\u001b[0m\u001b[1;33m)\u001b[0m\u001b[1;33m\u001b[0m\u001b[0m\n",
        "\u001b[1;32mC:\\Users\\Alex\\Anaconda\\lib\\site-packages\\Bio\\File.pyc\u001b[0m in \u001b[0;36mas_handle\u001b[1;34m(handleish, mode, **kwargs)\u001b[0m\n\u001b[0;32m     75\u001b[0m                 \u001b[1;32myield\u001b[0m \u001b[0mfp\u001b[0m\u001b[1;33m\u001b[0m\u001b[0m\n\u001b[0;32m     76\u001b[0m         \u001b[1;32melse\u001b[0m\u001b[1;33m:\u001b[0m\u001b[1;33m\u001b[0m\u001b[0m\n\u001b[1;32m---> 77\u001b[1;33m             \u001b[1;32mwith\u001b[0m \u001b[0mopen\u001b[0m\u001b[1;33m(\u001b[0m\u001b[0mhandleish\u001b[0m\u001b[1;33m,\u001b[0m \u001b[0mmode\u001b[0m\u001b[1;33m,\u001b[0m \u001b[1;33m**\u001b[0m\u001b[0mkwargs\u001b[0m\u001b[1;33m)\u001b[0m \u001b[1;32mas\u001b[0m \u001b[0mfp\u001b[0m\u001b[1;33m:\u001b[0m\u001b[1;33m\u001b[0m\u001b[0m\n\u001b[0m\u001b[0;32m     78\u001b[0m                 \u001b[1;32myield\u001b[0m \u001b[0mfp\u001b[0m\u001b[1;33m\u001b[0m\u001b[0m\n\u001b[0;32m     79\u001b[0m     \u001b[1;32melse\u001b[0m\u001b[1;33m:\u001b[0m\u001b[1;33m\u001b[0m\u001b[0m\n",
        "\u001b[1;31mIOError\u001b[0m: [Errno 2] No such file or directory: 'plantall.fna'"
       ]
      }
     ],
     "prompt_number": 2
    },
    {
     "cell_type": "code",
     "collapsed": false,
     "input": [
      "from Bio.Blast.Applications import NcbiblastnCommandline\n",
      "\n",
      "help(NcbiblastnCommandline)\n"
     ],
     "language": "python",
     "metadata": {},
     "outputs": []
    },
    {
     "cell_type": "raw",
     "metadata": {},
     "source": [
      "\n",
      "#inputfile = \"QGG24G02.yg.ab1_CLS_S3_Contig10858_LettuceNCBI.fasta\"\n",
      "#outputfile = inputfile+\"_\"+\"refseqBLASTresults.csv\"\n",
      "                   \n",
      "inputfile = \"~\\Users\\Alex\\Desktop\\Work\\Research\\Lettuce\\Samplesequence.fasta\"\n",
      "outputfile = \"~\\Users\\Alex\\Desktop\\Work\\Research\\Lettuce\\SampleBlast.csv\"\n",
      "\n",
      "blastn_cline = NcbiblastnCommandline(query=inputfile, db=\"refseqplant\", evalue=0.001, outfmt=\"10 qseqid sseqid pident length mismatch gapopen qstart qend sstart send evalue bitscore stitle salltitles scinames sallseqid sgi sallgi sacc sallacc\", out=outputfile)\n",
      "blastn_cline\n",
      "#can use std for all qseqid sseqid pident length mismatch gapopen qstart qend sstart send evalue bitscore\n",
      "#download one fasta seq from NCBI for a plant and blast it against this to see the difference between stitle and salltitles\n",
      "print(blastn_cline)\n",
      "stdout, stderr = blastn_cline()\n"
     ]
    },
    {
     "cell_type": "code",
     "collapsed": false,
     "input": [
      "\n",
      "#inputfile = \"QGG24G02.yg.ab1_CLS_S3_Contig10858_LettuceNCBI.fasta\"\n",
      "#outputfile = inputfile+\"_\"+\"refseqBLASTresults.csv\"\n",
      "                   \n",
      "inputfile = \"~\\Users\\Alex\\Desktop\\Work\\Research\\Lettuce\\Samplesequence.fasta\"\n",
      "outputfile = \"~\\Users\\Alex\\Desktop\\Work\\Research\\Lettuce\\SampleBlast2.csv\"\n",
      "\n",
      "blastn_cline = NcbiblastnCommandline(query=inputfile, db=\"refseqplant\", evalue=0.001, outfmt=\"10 qseqid sseqid pident length mismatch gapopen qstart qend sstart send evalue bitscore stitle salltitles\", out=outputfile)\n",
      "blastn_cline\n",
      "#can use std for all qseqid sseqid pident length mismatch gapopen qstart qend sstart send evalue bitscore\n",
      "#download one fasta seq from NCBI for a plant and blast it against this to see the difference between stitle and salltitles\n",
      "print(blastn_cline)\n",
      "stdout, stderr = blastn_cline()\n"
     ],
     "language": "python",
     "metadata": {},
     "outputs": []
    },
    {
     "cell_type": "raw",
     "metadata": {},
     "source": [
      "blastx -query opuntia.fasta -db nr -out opuntia.xml -evalue 0.001 -outfmt 10\n",
      "\n",
      "help(NcbiblastxCommandline)\n",
      "\n",
      "\n",
      "blastx_cline = NcbiblastxCommandline(query=\"opuntia.fasta\", db=\"nr\", evalue=0.001, outfmt=5, out=\"opuntia.xml\")\n",
      "blastx_cline\n",
      "NcbiblastxCommandline(cmd='blastx', out='opuntia.xml', outfmt=5, query='opuntia.fasta',\n",
      "db='nr', evalue=0.001)\n",
      "print(blastx_cline)\n",
      "blastx -out opuntia.xml -outfmt 5 -query opuntia.fasta -db nr -evalue 0.001 stdout, stderr = blastx_cline()"
     ]
    }
   ],
   "metadata": {}
  }
 ]
}